{
 "cells": [
  {
   "cell_type": "code",
   "execution_count": 1,
   "metadata": {},
   "outputs": [],
   "source": [
    "from mpl_toolkits.mplot3d import Axes3D\n",
    "import matplotlib.pyplot as plt\n",
    "from matplotlib import cm\n",
    "from matplotlib.ticker import LinearLocator, FormatStrFormatter\n",
    "import numpy as np\n",
    "from random import random, seed\n",
    "from sklearn.preprocessing import PolynomialFeatures\n",
    "from sklearn.model_selection import train_test_split\n",
    "from sklearn.metrics import r2_score, mean_squared_error\n",
    "from sklearn.preprocessing import StandardScaler\n",
    "from sklearn.linear_model import Lasso\n",
    "from sklearn.utils import resample\n",
    "from sklearn.model_selection import KFold, cross_val_score"
   ]
  },
  {
   "cell_type": "markdown",
   "metadata": {},
   "source": [
    "## Functionspace"
   ]
  },
  {
   "cell_type": "code",
   "execution_count": 2,
   "metadata": {},
   "outputs": [],
   "source": [
    "\n",
    "# FrankeFunction, from lecture notes\n",
    "def FrankeFunction(x,y):\n",
    "    term1 = 0.75*np.exp(-(0.25*(9*x-2)**2) - 0.25*((9*y-2)**2))\n",
    "    term2 = 0.75*np.exp(-((9*x+1)**2)/49.0 - 0.1*(9*y+1))\n",
    "    term3 = 0.5*np.exp(-(9*x-7)**2/4.0 - 0.25*((9*y-3)**2))\n",
    "    term4 = -0.2*np.exp(-(9*x-4)**2 - (9*y-7)**2)\n",
    "\n",
    "    return term1 + term2 + term3 + term4 \n",
    "\n",
    "\n",
    "# Defining the R2 function, from lecture notes\n",
    "def R2(y_data, y_model):\n",
    "    return 1 - np.sum((y_data - y_model) ** 2) / np.sum((y_data - np.mean(y_data)) ** 2)\n",
    "\n",
    "\n",
    "# Defining the Mean square error, from lecture notes\n",
    "def MSE(y,ytilde):\n",
    "    n = len(y)\n",
    "    return 1/n * np.sum(np.abs(y-ytilde)**2)\n",
    "\n",
    "\n",
    "\n",
    "# Creating the design matrix, from lecture notes\n",
    "def create_X(x, y, n ):\n",
    "    if len(x.shape) > 1:\n",
    "        x = np.ravel(x)\n",
    "        y = np.ravel(y)\n",
    "\n",
    "    N = len(x)\n",
    "    l = int((n+1)*(n+2)/2) # Number of elements in beta\n",
    "    X = np.ones((N,l))\n",
    "\n",
    "    for i in range(1,n+1):\n",
    "        q = int((i)*(i+1)/2)\n",
    "        for k in range(i+1):\n",
    "            X[:,q+k] = (x**(i-k))*(y**k)\n",
    "\n",
    "    return X\n",
    "\n",
    "\n",
    "# making the OCS regression\n",
    "def OLSmethod(X,z):\n",
    "    return np.linalg.pinv(X.T @ X) @ X.T @ z\n",
    "\n",
    "\n",
    "\n",
    "#Ridgeregression\n",
    "def ridgeregg(X,y, lmb = 0.0001):\n",
    "    XtX = X.T @ X\n",
    "    p =np.shape(XtX)[0]\n",
    "    return np.linalg.pinv(XtX +  lmb * np.identity(p)) @ X.T @ y\n",
    "\n",
    "#Lassoregression using sklern\n",
    "def lassoregg(X,y,lmb = 0.0001):\n",
    "    RegLasso = Lasso(lmb,fit_intercept=False,max_iter=10000)\n",
    "    RegLasso.fit(X,y)\n",
    "    return RegLasso.coef_\n",
    "    #pred_y = RegLasso.predict(X)\n",
    "    \n",
    "    \n",
    "\n",
    "\n",
    "def surfaceplot(x,y,z):\n",
    "    fig = plt.figure()\n",
    "    ax = fig.gca(projection='3d')\n",
    "\n",
    "    # Plot the surface.\n",
    "    surf = ax.plot_surface(x, y, z, cmap=cm.coolwarm,\n",
    "                           linewidth=0, antialiased=False)\n",
    "\n",
    "    # Customize the z axis.\n",
    "    ax.set_zlim(-0.10, 1.40)\n",
    "    ax.zaxis.set_major_locator(LinearLocator(10))\n",
    "    ax.zaxis.set_major_formatter(FormatStrFormatter('%.02f'))\n",
    "\n",
    "    # Add a color bar which maps values to colors.\n",
    "    fig.colorbar(surf, shrink=0.5, aspect=5)\n",
    "\n",
    "    plt.show()\n",
    "\n",
    "    \n",
    "def printQ(xdata,xmodel):\n",
    "    print(\"--------------------------------------------------------\")\n",
    "    print(f\"MSE = |{MSE(xdata,xmodel)}|, R2 = |{r2_score(xdata,xmodel)}|\")\n",
    "    print(\"--------------------------------------------------------\\n\")\n",
    "    \n",
    "# calculating the MSE, bias and variance using the bootstrap method\n",
    "def BootstrapOLS(X_train,X_test,z_train,z_test,numberOfStraps):\n",
    "    MSEdeglisttest = np.zeros(numberOfStraps)\n",
    "    MSEdeglisttrain = np.zeros(numberOfStraps)\n",
    "    bias = np.zeros(numberOfStraps)\n",
    "    variance = np.zeros(numberOfStraps)\n",
    "    for i in range(numberOfStraps):\n",
    "        bootX,bootz = resample(X_train,z_train.reshape(-1,1))\n",
    "        bootbetaOLS = OLSmethod(bootX,bootz)\n",
    "        # Making out model and adding it to a list\n",
    "        ztilde = X_test @ bootbetaOLS\n",
    "        zpred = X_train @ bootbetaOLS\n",
    "        MSEdeglisttest[i] =MSE(z_test,ztilde)\n",
    "        MSEdeglisttrain[i]= MSE(z_train,zpred)\n",
    "        bias[i],variance[i] = biassVariance(z_test,zpred)\n",
    "    return np.mean(MSEdeglisttest), np.mean(MSEdeglisttrain), np.mean(bias), np.mean(variance)\n",
    "\n",
    "\n",
    "def BootstrapRidge(X_train,X_test,z_train,z_test,lam,numberOfStraps):\n",
    "    MSEdeglisttest = np.zeros(numberOfStraps)\n",
    "    MSEdeglisttrain = np.zeros(numberOfStraps)\n",
    "    bias = np.zeros(numberOfStraps)\n",
    "    variance = np.zeros(numberOfStraps)\n",
    "    for i in range(numberOfStraps):\n",
    "        bootX,bootz = resample(X_train,z_train.reshape(-1,1))\n",
    "        bootbetaRidge = ridgeregg(bootX,bootz,lam)\n",
    "        # Making out model and adding it to a list\n",
    "        ztilde = X_test @ bootbetaRidge\n",
    "        zpred = X_train @ bootbetaRidge\n",
    "        MSEdeglisttest[i] =MSE(z_test,ztilde)\n",
    "        MSEdeglisttrain[i]= MSE(z_train,zpred)\n",
    "        bias[i],variance[i] = biassVariance(z_test,zpred)\n",
    "             \n",
    "    return np.mean(MSEdeglisttest), np.mean(MSEdeglisttrain), np.mean(bias), np.mean(variance)\n",
    "\n",
    "def BootstrapLasso(X_train,X_test,z_train,z_test,lam,numberOfStraps):\n",
    "    MSEdeglisttest = np.zeros(numberOfStraps)\n",
    "    MSEdeglisttrain = np.zeros(numberOfStraps)\n",
    "    bias = np.zeros(numberOfStraps)\n",
    "    variance = np.zeros(numberOfStraps)\n",
    "    for i in range(numberOfStraps):\n",
    "        bootX,bootz = resample(X_train,z_train.reshape(-1,1))\n",
    "        bootbetaLasso = lassoregg(bootX,bootz,lam)\n",
    "        #Creating model and adding to list\n",
    "        ztilde = X_test @ bootbetaLasso\n",
    "        zpred = X_train @ bootbetaLasso\n",
    "        MSEdeglisttest[i] =MSE(z_test,ztilde)\n",
    "        MSEdeglisttrain[i]= MSE(z_train,zpred)\n",
    "        bias[i],variance[i] = biassVariance(z_test,zpred)\n",
    "    return np.mean(MSEdeglisttest), np.mean(MSEdeglisttrain), np.mean(bias), np.mean(variance)\n",
    "\n",
    "def plotMSEcomplexity(x,y,z,n):\n",
    "    MSElisttest = []\n",
    "    MSElisttrain = []\n",
    "    biasList =[]\n",
    "    varianceList =[] \n",
    "    n = n+1\n",
    "    complexity = np.arange(n)\n",
    "    print(f\"The polynomial range is [{complexity[0]},{complexity[-1]}] \")\n",
    "    \n",
    "    # Running over the degrees of polynomails\n",
    "    for degree in complexity:\n",
    "        # Creating the designmatrix and splitting into train and test\n",
    "        X = create_X(x,y,degree)\n",
    "        X_train, X_test, z_train, z_test = train_test_split(X, z.reshape(-1,1), test_size=0.2)\n",
    "        \n",
    "        numberOfStraps = 100\n",
    "        MSE_train, MSE_test,bias,variance = BootstrapOLS(X_train,X_test,z_train,z_test,numberOfStraps)\n",
    "        \n",
    "        \n",
    "        # Appending the mean to the MSE list when the loop has run for its specific degree\n",
    "        MSElisttest.append(MSE_train)\n",
    "        MSElisttrain.append(MSE_test)\n",
    "        biasList.append(bias)\n",
    "        varianceList.append(variance)\n",
    "        \n",
    "    plt.title('ERROR')\n",
    "    plt.plot(complexity,MSElisttest,\"r\", label = \"test\")\n",
    "    plt.plot(complexity,MSElisttrain,\"k\", label = \"train\")\n",
    "    plt.xlabel(\"Polynomial degree\")\n",
    "    plt.grid()\n",
    "    plt.ylabel(\"MSE\")\n",
    "    plt.title(\"Figure of the MSE as a function of the complexity of the model\")\n",
    "    plt.legend()\n",
    "    plt.show()\n",
    "    \n",
    "    plt.title('Bias variance')\n",
    "    plt.plot(complexity,biasList,\"r\", label = \"bias\",ls='',marker='o')\n",
    "    plt.plot(complexity,varianceList,\"k\", label = \"variance\",ls='',marker='o')\n",
    "    plt.xlabel(\"Polynomial degree\")\n",
    "    plt.grid()\n",
    "    plt.ylabel(\"MSE\")\n",
    "    plt.title(\"Figure of the MSE as a function of the complexity of the model\")\n",
    "    plt.legend()\n",
    "    plt.show()\n",
    "    \n",
    "    \n",
    "def confidense(y,X): #finding the confidence intervall for beta\n",
    "    var = 1 \n",
    "    XtX = np.linalg.pinv(X.T@X)\n",
    "    conf = 2*var*np.sqrt(np.diag(XtX))\n",
    "    return conf\n",
    "\n",
    "def biassVariance(y,y_pred): \n",
    "    mean_pred = np.mean(y_pred)\n",
    "    bias = np.mean((y - mean_pred)**2)\n",
    "    variance = np.mean((y_pred - mean_pred)**2)\n",
    "    return bias, variance\n",
    "\n",
    "\n",
    "def k_foldOLS(Data, k,X): \n",
    "    \"Splitting the data\"\n",
    "    k_split = KFold(n_splits = k)\n",
    "    \"CV to calculate MSE\"\n",
    "    k_scores= np.zeros(k)\n",
    "    i = 0\n",
    "    for k_train_index, k_test_index in k_split.split(X):\n",
    "        #print(k_train_index)\n",
    "        k_xtrain = X[k_train_index]\n",
    "        k_ytrain = Data[k_train_index]\n",
    "        \n",
    "       # print(k_xtrain)\n",
    "        \n",
    "        k_xtest = X[k_test_index]\n",
    "        k_ytest = Data[k_test_index]\n",
    "\n",
    "        #k_Xtrain = poly.fit_transform(k_xtrain[:, np.newaxis])\n",
    "        \"Finding betaOLS for each k\"\n",
    "        beta_k_OLS = OLSmethod(k_xtrain, k_ytrain)\n",
    "\n",
    "        #k_Xtest = poly.fit_transform(k_xtest[:, np.newaxis])\n",
    "        model_predict = k_xtest @ beta_k_OLS\n",
    "\n",
    "        k_scores[i] = MSE(k_ytest, model_predict)\n",
    "\n",
    "        i += 1\n",
    "  #  print(k_scores)\n",
    "    MSE_kfold = np.mean(k_scores)\n",
    "   # print('MSE for k-fold OLS')\n",
    "   # print(MSE_kfold)\n",
    "    return MSE_kfold\n",
    "\n",
    "def k_foldRigd(Data, k,X): \n",
    "    \"Splitting the data\"\n",
    "    k_split = KFold(n_splits = k)\n",
    "    \"CV to calculate MSE\"\n",
    "    k_scores= np.zeros(k)\n",
    "    i = 0\n",
    "    for k_train_index, k_test_index in k_split.split(X):\n",
    "        #print(k_train_index)\n",
    "        k_xtrain = X[k_train_index]\n",
    "        k_ytrain = Data[k_train_index]\n",
    "        \n",
    "       # print(k_xtrain)\n",
    "        \n",
    "        k_xtest = X[k_test_index]\n",
    "        k_ytest = Data[k_test_index]\n",
    "\n",
    "        #k_Xtrain = poly.fit_transform(k_xtrain[:, np.newaxis])\n",
    "        \"Finding betaOLS for each k\"\n",
    "        beta_k_OLS = OLSmethod(k_xtrain, k_ytrain)\n",
    "\n",
    "        #k_Xtest = poly.fit_transform(k_xtest[:, np.newaxis])\n",
    "        model_predict = k_xtest @ beta_k_OLS\n",
    "\n",
    "        k_scores[i] = MSE(k_ytest, model_predict)\n",
    "\n",
    "        i += 1\n",
    "  #  print(k_scores)\n",
    "    MSE_kfold = np.mean(k_scores)\n",
    "   # print('MSE for k-fold OLS')\n",
    "   # print(MSE_kfold)\n",
    "    return MSE_kfold\n",
    "\n"
   ]
  },
  {
   "cell_type": "markdown",
   "metadata": {},
   "source": [
    "## Task 1"
   ]
  },
  {
   "cell_type": "code",
   "execution_count": 3,
   "metadata": {},
   "outputs": [],
   "source": [
    "npoints = 200\n",
    "\n",
    "\n",
    "# Make data.\n",
    "x = np.sort(np.random.uniform(0, 1, npoints)) \n",
    "y = np.sort(np.random.uniform(0, 1, npoints)) \n",
    "\n",
    "\n",
    "#x, y = np.meshgrid(x,y)\n",
    "\n",
    "\n",
    "z = FrankeFunction(x, y) \n",
    "z = z #+ .1 * np.random.randn(npoints)\n",
    "\n",
    "#surfaceplot(x,y,z)\n"
   ]
  },
  {
   "cell_type": "code",
   "execution_count": 4,
   "metadata": {},
   "outputs": [
    {
     "data": {
      "image/png": "[encoded data removed]",
      "text/plain": [
       "<Figure size 432x288 with 1 Axes>"
      ]
     },
     "metadata": {
      "needs_background": "light"
     },
     "output_type": "display_data"
    },
    {
     "name": "stdout",
     "output_type": "stream",
     "text": [
      "The variance is 3368632.958679474\n",
      "1835.3835998721013\n",
      "For the training data we get a MSE of\n",
      "--------------------------------------------------------\n",
      "MSE = |1.879135567759075e-05|, R2 = |0.9998935951065826|\n",
      "--------------------------------------------------------\n",
      "\n",
      "For the test data we get a MSE of\n",
      "--------------------------------------------------------\n",
      "MSE = |7.20339715170648e-05|, R2 = |0.9995941959838642|\n",
      "--------------------------------------------------------\n",
      "\n",
      "MSE_kfold:  0.00044424427631403784\n",
      "bootTest:  3.5295409524998365e-05\n"
     ]
    }
   ],
   "source": [
    "n = 10\n",
    "\n",
    "\n",
    "#x = np.sort(np.random.uniform(0.0 , 1.0 , npoints)) \n",
    "#y = np.sort(np.random.uniform(0.0 , 1.0 , npoints))\n",
    "\n",
    "\n",
    "#x, y = np.meshgrid(x,y)\n",
    "\n",
    "\n",
    "X = create_X(x,y,n)\n",
    "\n",
    "\n",
    "\n",
    "\n",
    "X_train, X_test, z_train, z_test = train_test_split(X, z.reshape(-1,1), test_size=0.2)\n",
    "\n",
    "\n",
    "betaOLS = OLSmethod(X_train , z_train)\n",
    "\n",
    "\n",
    "#finding the variance of beta\n",
    "p = int((n+1)*(n+2)/2)\n",
    "\n",
    "\n",
    "betaOLS_var = confidense(z_train,X_train)\n",
    "\n",
    "\n",
    "plt.errorbar(range(p), betaOLS, yerr= betaOLS_var)\n",
    "plt.show()\n",
    "\n",
    "\n",
    "\n",
    "print(f\"The variance is {np.var(betaOLS)}\")\n",
    "print(np.std(betaOLS))\n",
    "\n",
    "\n",
    "\n",
    "zpred = X_train@betaOLS\n",
    "print(\"For the training data we get a MSE of\")\n",
    "printQ(z_train,zpred)\n",
    "\n",
    "\n",
    "print(\"For the test data we get a MSE of\")\n",
    "ztilde = X_test@betaOLS\n",
    "printQ(z_test,ztilde)\n",
    "\n",
    "\n",
    "\n",
    "MSElist = []\n",
    "R2list = []\n",
    "for i in range(28):\n",
    "    bootX,bootz = resample(X_train,z_train.reshape(-1,1))\n",
    "\n",
    "\n",
    "    bootbetaOLS = OLSmethod(bootX,bootz)\n",
    "    \n",
    "    ypred = bootX @ bootbetaOLS\n",
    "    MSElist.append(MSE(z_train,ypred))\n",
    "    R2list.append(R2(bootz,ypred))\n",
    "    \n",
    "\n",
    "#X_scale = np.ones_like(X)\n",
    "#scaler = StandardScaler()\n",
    "#X_scale[1:,:] = scaler.fit_transform(X[1:,:])\n",
    "#z_scaled = scaler.fit_transform(z.reshape(-1,1))\n",
    "\n",
    "\n",
    "\n",
    "\n",
    "#X_strain, X_stest, z_strain, z_stest = train_test_split(X_scale, z_scaled.reshape(-1,1) , test_size = 0.2 )\n",
    "\n",
    "#print(np.mean(MSElist))\n",
    "#print(np.mean(R2list))\n",
    "\n",
    "\n",
    "print('MSE_kfold: ',k_foldOLS(z, 20,X))\n",
    "boot_train_error, boot_test_error, variance,bias =BootstrapOLS(X_train,X_test,z_train,z_test,100)\n",
    "print('bootTest: ', boot_test_error)\n"
   ]
  },
  {
   "cell_type": "markdown",
   "metadata": {},
   "source": [
    "## For the scaled data"
   ]
  },
  {
   "cell_type": "code",
   "execution_count": 5,
   "metadata": {},
   "outputs": [
    {
     "name": "stdout",
     "output_type": "stream",
     "text": [
      "The variance of the scaled coefficients is 11158785.999811301\n",
      "\n",
      "Under we print the different values for MSE and R2\n",
      "For the scaled training data we get a MSE and R2 of:\n",
      "--------------------------------------------------------\n",
      "MSE = |7.356995270604139e-05|, R2 = |0.9999275053130265|\n",
      "--------------------------------------------------------\n",
      "\n",
      "For the scaled test data we get a MSE and R2 of: \n",
      "--------------------------------------------------------\n",
      "MSE = |7.853938462180775e-05|, R2 = |0.999912631326823|\n",
      "--------------------------------------------------------\n",
      "\n"
     ]
    }
   ],
   "source": [
    "scaler = StandardScaler()\n",
    "\n",
    "X_scale = scaler.fit_transform(X)\n",
    "z_scaled = scaler.fit_transform(z.reshape(-1,1))\n",
    "\n",
    "\n",
    "\n",
    "\n",
    "X_strain, X_stest, z_strain, z_stest = train_test_split(X_scale, z_scaled.reshape(-1,1) , test_size = 0.2 )\n",
    "\n",
    "betascaledOCS = np.linalg.pinv(X_strain.T@X_strain)@ X_strain.T @ z_strain\n",
    "print(f\"The variance of the scaled coefficients is {np.var(betascaledOCS)}\\n\")\n",
    "\n",
    "zpreds = X_strain@betascaledOCS\n",
    "\n",
    "\n",
    "\n",
    "print(f\"Under we print the different values for MSE and R2\")\n",
    "\n",
    "\n",
    "\n",
    "print(\"For the scaled training data we get a MSE and R2 of:\")\n",
    "printQ(z_strain,zpreds)\n",
    "\n",
    "\n",
    "print(\"For the scaled test data we get a MSE and R2 of: \")\n",
    "ztilde = X_stest @ betascaledOCS\n",
    "\n",
    "printQ(z_stest,ztilde)\n"
   ]
  },
  {
   "cell_type": "code",
   "execution_count": null,
   "metadata": {},
   "outputs": [],
   "source": []
  },
  {
   "cell_type": "markdown",
   "metadata": {},
   "source": [
    "## Task 2"
   ]
  },
  {
   "cell_type": "code",
   "execution_count": 6,
   "metadata": {},
   "outputs": [
    {
     "name": "stdout",
     "output_type": "stream",
     "text": [
      "The polynomial range is [0,10] \n"
     ]
    },
    {
     "data": {
      "image/png": "[encoded data removed]",
      "text/plain": [
       "<Figure size 432x288 with 1 Axes>"
      ]
     },
     "metadata": {
      "needs_background": "light"
     },
     "output_type": "display_data"
    },
    {
     "data": {
      "image/png": "[encoded data removed]",
      "text/plain": [
       "<Figure size 432x288 with 1 Axes>"
      ]
     },
     "metadata": {
      "needs_background": "light"
     },
     "output_type": "display_data"
    }
   ],
   "source": [
    "npoints = 50\n",
    "\n",
    "\n",
    "# Make data.\n",
    "x = np.sort(np.random.uniform(0, 1, npoints)) \n",
    "y = np.sort(np.random.uniform(0, 1, npoints)) \n",
    "\n",
    "\n",
    "#x, y = np.meshgrid(x,y)\n",
    "\n",
    "\n",
    "z = FrankeFunction(x, y) \n",
    "z = z #+ 0.1 * np.random.randn(npoints)\n",
    "\n",
    "\n",
    "n = 10\n",
    "\n",
    "plotMSEcomplexity(x,y,z,n)\n",
    "\n"
   ]
  },
  {
   "cell_type": "code",
   "execution_count": 7,
   "metadata": {},
   "outputs": [
    {
     "data": {
      "image/png": "[encoded data removed]",
      "text/plain": [
       "<Figure size 432x288 with 1 Axes>"
      ]
     },
     "metadata": {
      "needs_background": "light"
     },
     "output_type": "display_data"
    }
   ],
   "source": [
    "#K_fold\n",
    "\n",
    "n = 27\n",
    "k = 15\n",
    "\n",
    "M_list = np.zeros(n)\n",
    "\n",
    "for j in range(n):\n",
    "    X = create_X(x,y,j)\n",
    "    M_list[j] = k_foldOLS(z,k,X)\n",
    "\n",
    "plt.plot(M_list)\n",
    "plt.show()\n",
    "\n",
    "\n",
    "\n",
    "\n"
   ]
  },
  {
   "cell_type": "markdown",
   "metadata": {},
   "source": [
    "## Ridge"
   ]
  },
  {
   "cell_type": "code",
   "execution_count": 15,
   "metadata": {},
   "outputs": [],
   "source": [
    "lam = np.logspace(-3,4)\n",
    "lam_n = np.size(lam)\n",
    "degrees = 10\n",
    "#for Ridge\n",
    "Bootstrapp_train_errors = np.zeros((lam_n,degrees))\n",
    "Bootstrapp_test_errors = np.zeros((lam_n,degrees))\n",
    "bias_List =  np.zeros((lam_n,degrees))\n",
    "variance_List = np.zeros((lam_n,degrees))\n",
    "\n",
    "#for Lasso\n",
    "Bootstrapp_train_errors_L = np.zeros((lam_n,degrees))\n",
    "Bootstrapp_test_errors_L = np.zeros((lam_n,degrees))\n",
    "bias_List_L =  np.zeros((lam_n,degrees))\n",
    "variance_List_L = np.zeros((lam_n,degrees))\n",
    "\n",
    "\n",
    "i,j = 0,0\n",
    "li = [0.2]\n",
    "for alpha in lam:\n",
    "    for degree in range(degrees):\n",
    "        X = create_X(x,y,degree)\n",
    "        X_strain, X_stest, z_strain, z_stest = train_test_split(X_scale, z_scaled.reshape(-1,1) , test_size = 0.2 )\n",
    "        #Ridge\n",
    "        bootstrap_train, bootstrap_test,bias,variance = BootstrapRidge(X_train,X_test,z_train,z_test,alpha,30)\n",
    "        #Lasso\n",
    "        bootstrap_train_L, bootstrap_test_L,bias_L,variance_L = BootstrapLasso(X_train,X_test,z_train,z_test,alpha,30)\n",
    "        \n",
    "        Bootstrapp_train_errors[i,j] =  bootstrap_train\n",
    "        Bootstrapp_test_errors[i,j] = bootstrap_test\n",
    "        bias_List[i,j] = bias\n",
    "        variance_List[i,j] = variance\n",
    "        \n",
    "        #Lasso method on bootstrap samples\n",
    "        Bootstrapp_train_errors_L[i,j] =  bootstrap_train_L\n",
    "        Bootstrapp_test_errors_L[i,j] = bootstrap_test_L\n",
    "        bias_List_L[i,j] = bias_L\n",
    "        variance_List_L[i,j] = variance_L\n",
    "        \n",
    "        \n",
    "        j +=1\n",
    "    i +=1\n",
    "    j=0"
   ]
  },
  {
   "cell_type": "markdown",
   "metadata": {},
   "source": [
    "LASSO"
   ]
  },
  {
   "cell_type": "code",
   "execution_count": null,
   "metadata": {},
   "outputs": [],
   "source": [
    "   "
   ]
  },
  {
   "cell_type": "code",
   "execution_count": 16,
   "metadata": {},
   "outputs": [
    {
     "data": {
      "image/png": "[encoded data removed]",
      "text/plain": [
       "<Figure size 432x288 with 1 Axes>"
      ]
     },
     "metadata": {
      "needs_background": "light"
     },
     "output_type": "display_data"
    },
    {
     "data": {
      "image/png": "[encoded data removed]",
      "text/plain": [
       "<Figure size 432x288 with 1 Axes>"
      ]
     },
     "metadata": {
      "needs_background": "light"
     },
     "output_type": "display_data"
    },
    {
     "data": {
      "image/png": "[encoded data removed]",
      "text/plain": [
       "<Figure size 432x288 with 1 Axes>"
      ]
     },
     "metadata": {
      "needs_background": "light"
     },
     "output_type": "display_data"
    },
    {
     "data": {
      "image/png": "[encoded data removed]",
      "text/plain": [
       "<Figure size 432x288 with 1 Axes>"
      ]
     },
     "metadata": {
      "needs_background": "light"
     },
     "output_type": "display_data"
    }
   ],
   "source": [
    "#Ridge\n",
    "plt.semilogx(lam,Bootstrapp_train_errors[:,4],label='train')\n",
    "plt.semilogx(lam,Bootstrapp_test_errors[:,4],label='test')\n",
    "plt.legend()\n",
    "plt.show()\n",
    "\n",
    "plt.semilogx(lam,variance_List[:,4],label='var',marker='o',ls='')\n",
    "plt.semilogx(lam,bias_List[:,4],label='bias',marker='o',ls='')\n",
    "plt.legend()\n",
    "plt.show()\n",
    "\n",
    "#Lasso\n",
    "plt.semilogx(lam,Bootstrapp_train_errors_L[:,4],label='train')\n",
    "plt.semilogx(lam,Bootstrapp_test_errors_L[:,4],label='test')\n",
    "plt.legend()\n",
    "plt.show()\n",
    "\n",
    "plt.semilogx(lam,variance_List_L[:,4],label='var',marker='o',ls='')\n",
    "plt.semilogx(lam,bias_List_L[:,4],label='bias',marker='o',ls='')\n",
    "plt.legend()\n",
    "plt.show()"
   ]
  },
  {
   "cell_type": "code",
   "execution_count": null,
   "metadata": {},
   "outputs": [],
   "source": []
  },
  {
   "cell_type": "code",
   "execution_count": null,
   "metadata": {},
   "outputs": [],
   "source": []
  }
 ],
 "metadata": {
  "kernelspec": {
   "display_name": "Python 3",
   "language": "python",
   "name": "python3"
  },
  "language_info": {
   "codemirror_mode": {
    "name": "ipython",
    "version": 3
   },
   "file_extension": ".py",
   "mimetype": "text/x-python",
   "name": "python",
   "nbconvert_exporter": "python",
   "pygments_lexer": "ipython3",
   "version": "3.7.3"
  }
 },
 "nbformat": 4,
 "nbformat_minor": 5
}
