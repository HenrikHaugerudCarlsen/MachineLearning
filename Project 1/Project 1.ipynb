{
 "cells": [
  {
   "cell_type": "code",
   "execution_count": 1,
   "metadata": {},
   "outputs": [],
   "source": [
    "from mpl_toolkits.mplot3d import Axes3D\n",
    "import matplotlib.pyplot as plt\n",
    "from matplotlib import cm\n",
    "from matplotlib.ticker import LinearLocator, FormatStrFormatter\n",
    "import numpy as np\n",
    "from random import random, seed\n",
    "from sklearn.preprocessing import PolynomialFeatures\n",
    "from sklearn.model_selection import train_test_split\n",
    "from sklearn.metrics import r2_score, mean_squared_error\n",
    "from sklearn.preprocessing import StandardScaler\n",
    "from sklearn.linear_model import Lasso\n",
    "from sklearn.utils import resample\n",
    "from sklearn.model_selection import KFold, cross_val_score"
   ]
  },
  {
   "cell_type": "markdown",
   "metadata": {},
   "source": [
    "## Functionspace"
   ]
  },
  {
   "cell_type": "code",
   "execution_count": 16,
   "metadata": {},
   "outputs": [],
   "source": [
    "\n",
    "# FrankeFunction, from lecture notes\n",
    "def FrankeFunction(x,y):\n",
    "    term1 = 0.75*np.exp(-(0.25*(9*x-2)**2) - 0.25*((9*y-2)**2))\n",
    "    term2 = 0.75*np.exp(-((9*x+1)**2)/49.0 - 0.1*(9*y+1))\n",
    "    term3 = 0.5*np.exp(-(9*x-7)**2/4.0 - 0.25*((9*y-3)**2))\n",
    "    term4 = -0.2*np.exp(-(9*x-4)**2 - (9*y-7)**2)\n",
    "\n",
    "    return term1 + term2 + term3 + term4 \n",
    "\n",
    "\n",
    "# Defining the R2 function, from lecture notes\n",
    "def R2(y_data, y_model):\n",
    "    return 1 - np.sum((y_data - y_model) ** 2) / np.sum((y_data - np.mean(y_data)) ** 2)\n",
    "\n",
    "\n",
    "# Defining the Mean square error, from lecture notes\n",
    "def MSE(y,ytilde):\n",
    "    n = len(y)\n",
    "    return 1/n * np.sum(np.abs(y-ytilde)**2)\n",
    "\n",
    "\n",
    "\n",
    "# Creating the design matrix, from lecture notes\n",
    "def create_X(x, y, n ):\n",
    "    if len(x.shape) > 1:\n",
    "        x = np.ravel(x)\n",
    "        y = np.ravel(y)\n",
    "\n",
    "    N = len(x)\n",
    "    l = int((n+1)*(n+2)/2) # Number of elements in beta\n",
    "    X = np.ones((N,l))\n",
    "\n",
    "    for i in range(1,n+1):\n",
    "        q = int((i)*(i+1)/2)\n",
    "        for k in range(i+1):\n",
    "            X[:,q+k] = (x**(i-k))*(y**k)\n",
    "\n",
    "    return X\n",
    "\n",
    "\n",
    "# making the OCS regression\n",
    "def OLSmethod(X,z):\n",
    "    return np.linalg.pinv(X.T @ X) @ X.T @ z\n",
    "\n",
    "\n",
    "\n",
    "#Ridgeregression\n",
    "def ridgeregg(X,y, lmb = 0.0001):\n",
    "    XtX = X.T @ X\n",
    "    p =np.shape(XtX)[0]\n",
    "    return np.linalg.pinv(XtX +  lmb * np.identity(p)) @ X.T @ y\n",
    "\n",
    "#Lassoregression using sklern\n",
    "#def lassoregg(X,y,lmb):\n",
    "    \n",
    "\n",
    "\n",
    "def surfaceplot(x,y,z):\n",
    "    fig = plt.figure()\n",
    "    ax = fig.gca(projection='3d')\n",
    "\n",
    "    # Plot the surface.\n",
    "    surf = ax.plot_surface(x, y, z, cmap=cm.coolwarm,\n",
    "                           linewidth=0, antialiased=False)\n",
    "\n",
    "    # Customize the z axis.\n",
    "    ax.set_zlim(-0.10, 1.40)\n",
    "    ax.zaxis.set_major_locator(LinearLocator(10))\n",
    "    ax.zaxis.set_major_formatter(FormatStrFormatter('%.02f'))\n",
    "\n",
    "    # Add a color bar which maps values to colors.\n",
    "    fig.colorbar(surf, shrink=0.5, aspect=5)\n",
    "\n",
    "    plt.show()\n",
    "\n",
    "    \n",
    "def printQ(xdata,xmodel):\n",
    "    print(\"--------------------------------------------------------\")\n",
    "    print(f\"MSE = |{MSE(xdata,xmodel)}|, R2 = |{r2_score(xdata,xmodel)}|\")\n",
    "    print(\"--------------------------------------------------------\\n\")\n",
    "    \n",
    "\n",
    "def BootstrapOLS(X_train,X_test,z_train,z_test,numberOfStraps):\n",
    "    MSEdeglisttest = np.zeros(numberOfStraps)\n",
    "    MSEdeglisttrain = np.zeros(numberOfStraps)\n",
    "    for i in range(numberOfStraps):\n",
    "        \n",
    "        bootX,bootz = resample(X_train,z_train.reshape(-1,1))\n",
    "        bootbetaOLS = OLSmethod(bootX,bootz)\n",
    "        # Making out model and adding it to a list\n",
    "        ztilde = X_test @ bootbetaOLS\n",
    "        zpred = X_train @ bootbetaOLS\n",
    "        MSEdeglisttest[i] =MSE(z_test,ztilde)\n",
    "        MSEdeglisttrain[i]= MSE(z_train,zpred)\n",
    "    return np.mean(MSEdeglisttest), np.mean(MSEdeglisttrain)\n",
    "\n",
    "def BootstrapRidge(X_train,X_test,z_train,z_test,lam,numberOfStraps):\n",
    "    MSEdeglisttest = np.zeros(numberOfStraps)\n",
    "    MSEdeglisttrain = np.zeros(numberOfStraps)\n",
    "    for i in range(numberOfStraps):\n",
    "        bootX,bootz = resample(X_train,z_train.reshape(-1,1))\n",
    "        bootbetaRidge = ridgeregg(bootX,bootz,lam)\n",
    "        # Making out model and adding it to a list\n",
    "        ztilde = X_test @ bootbetaRidge\n",
    "        zpred = X_train @ bootbetaRidge\n",
    "        MSEdeglisttest[i] =MSE(z_test,ztilde)\n",
    "        MSEdeglisttrain[i]= MSE(z_train,zpred)\n",
    "    return np.mean(MSEdeglisttest), np.mean(MSEdeglisttrain)\n",
    "\n",
    "def plotMSEcomplexity(x,y,z,n):\n",
    "    MSElisttest = []\n",
    "    MSElisttrain = []\n",
    "    n = n+1\n",
    "    complexity = np.arange(n)\n",
    "    print(f\"The polynomial range is [{complexity[0]},{complexity[-1]}] \")\n",
    "    \n",
    "    # Running over the degrees of polynomails\n",
    "    for degree in complexity:\n",
    "        # Creating the designmatrix and splitting into train and test\n",
    "        X = create_X(x,y,degree)\n",
    "        X_train, X_test, z_train, z_test = train_test_split(X, z.reshape(-1,1), test_size=0.2)\n",
    "        \n",
    "        numberOfStraps = 30\n",
    "        MSE_train, MSE_test = BootstrapOLS(X_train,X_test,z_train,z_test,numberOfStraps)\n",
    "        \n",
    "        \n",
    "        # Appending the mean to the MSE list when the loop has run for its specific degree\n",
    "        MSElisttest.append(MSE_train)\n",
    "        MSElisttrain.append(MSE_test)\n",
    "        \n",
    "        \n",
    "    plt.plot(complexity,MSElisttest,\"r\", label = \"test\")\n",
    "    plt.plot(complexity,MSElisttrain,\"k\", label = \"train\")\n",
    "    plt.xlabel(\"Polynomial degree\")\n",
    "    plt.grid()\n",
    "    plt.ylabel(\"MSE\")\n",
    "    plt.title(\"Figure of the MSE as a function of the complexity of the model\")\n",
    "    plt.legend()\n",
    "    plt.show()\n",
    "    \n",
    "    \n",
    "def confidense(y,X):\n",
    "    #conf = np.zeros(len(beta))\n",
    "    betavar = np.var(y)\n",
    "    XtX = np.linalg.pinv(X.T@X)\n",
    "    conf = betavar * np.diag(XtX)\n",
    "    return conf\n",
    "\n",
    "def biassVariance(y,y_pred):\n",
    "    mean_pred = np.mean(y_pred)\n",
    "    bias = np.mean((y - mean_pred)**2)\n",
    "    variance = np.mean((y_pred - mean_pred)**2)\n",
    "    return bias, variance\n",
    "\n",
    "\n",
    "def k_foldOLS(Data, k,X):\n",
    "    \"Splitting the data\"\n",
    "    k_split = KFold(n_splits = k)\n",
    "    \"CV to calculate MSE\"\n",
    "    k_scores= np.zeros(k)\n",
    "    i = 0\n",
    "    for k_train_index, k_test_index in k_split.split(X):\n",
    "        #print(k_train_index)\n",
    "        k_xtrain = X[k_train_index]\n",
    "        k_ytrain = Data[k_train_index]\n",
    "        \n",
    "       # print(k_xtrain)\n",
    "        \n",
    "        k_xtest = X[k_test_index]\n",
    "        k_ytest = Data[k_test_index]\n",
    "\n",
    "        #k_Xtrain = poly.fit_transform(k_xtrain[:, np.newaxis])\n",
    "        \"Finding betaOLS for each k\"\n",
    "        beta_k_OLS = OLSmethod(k_xtrain, k_ytrain)\n",
    "\n",
    "        #k_Xtest = poly.fit_transform(k_xtest[:, np.newaxis])\n",
    "        model_predict = k_xtest @ beta_k_OLS\n",
    "\n",
    "        k_scores[i] = MSE(k_ytest, model_predict)\n",
    "\n",
    "        i += 1\n",
    "  #  print(k_scores)\n",
    "    MSE_kfold = np.mean(k_scores)\n",
    "   # print('MSE for k-fold OLS')\n",
    "   # print(MSE_kfold)\n",
    "    return MSE_kfold\n",
    "\n"
   ]
  },
  {
   "cell_type": "markdown",
   "metadata": {},
   "source": [
    "## Task 1"
   ]
  },
  {
   "cell_type": "code",
   "execution_count": 3,
   "metadata": {},
   "outputs": [],
   "source": [
    "npoints = 200\n",
    "\n",
    "\n",
    "# Make data.\n",
    "x = np.sort(np.random.uniform(0, 1, npoints)) \n",
    "y = np.sort(np.random.uniform(0, 1, npoints)) \n",
    "\n",
    "\n",
    "#x, y = np.meshgrid(x,y)\n",
    "\n",
    "\n",
    "z = FrankeFunction(x, y) \n",
    "z = z #+ .1 * np.random.randn(npoints)\n",
    "\n",
    "#surfaceplot(x,y,z)\n"
   ]
  },
  {
   "cell_type": "code",
   "execution_count": 4,
   "metadata": {},
   "outputs": [
    {
     "data": {
      "image/png": "[encoded data removed]",
      "text/plain": [
       "<Figure size 432x288 with 1 Axes>"
      ]
     },
     "metadata": {
      "needs_background": "light"
     },
     "output_type": "display_data"
    },
    {
     "name": "stdout",
     "output_type": "stream",
     "text": [
      "The variance is 39632981.054055326\n",
      "6295.473060386751\n",
      "For the training data we get a MSE of\n",
      "--------------------------------------------------------\n",
      "MSE = |0.00032216171169984273|, R2 = |0.9979649759033318|\n",
      "--------------------------------------------------------\n",
      "\n",
      "For the test data we get a MSE of\n",
      "--------------------------------------------------------\n",
      "MSE = |0.0007195480640246062|, R2 = |0.9952681053567909|\n",
      "--------------------------------------------------------\n",
      "\n",
      "MSE_kfold:  0.8192941325432462\n",
      "bootTest:  0.00046003159514526674\n"
     ]
    }
   ],
   "source": [
    "n = 5\n",
    "\n",
    "\n",
    "#x = np.sort(np.random.uniform(0.0 , 1.0 , npoints)) \n",
    "#y = np.sort(np.random.uniform(0.0 , 1.0 , npoints))\n",
    "\n",
    "\n",
    "#x, y = np.meshgrid(x,y)\n",
    "\n",
    "\n",
    "X = create_X(x,y,n)\n",
    "\n",
    "\n",
    "\n",
    "\n",
    "X_train, X_test, z_train, z_test = train_test_split(X, z.reshape(-1,1), test_size=0.2)\n",
    "\n",
    "\n",
    "betaOLS = OLSmethod(X_train , z_train)\n",
    "\n",
    "\n",
    "#finding the variance of beta\n",
    "p = int((n+1)*(n+2)/2)\n",
    "\n",
    "\n",
    "betaOLS_var = confidense(z_train,X_train)\n",
    "\n",
    "\n",
    "plt.errorbar(range(p), betaOLS, yerr= betaOLS_var)\n",
    "plt.show()\n",
    "\n",
    "\n",
    "\n",
    "print(f\"The variance is {np.var(betaOLS)}\")\n",
    "print(np.std(betaOLS))\n",
    "\n",
    "\n",
    "\n",
    "zpred = X_train@betaOLS\n",
    "print(\"For the training data we get a MSE of\")\n",
    "printQ(z_train,zpred)\n",
    "\n",
    "\n",
    "print(\"For the test data we get a MSE of\")\n",
    "ztilde = X_test@betaOLS\n",
    "printQ(z_test,ztilde)\n",
    "\n",
    "\n",
    "\n",
    "MSElist = []\n",
    "R2list = []\n",
    "for i in range(28):\n",
    "    bootX,bootz = resample(X_train,z_train.reshape(-1,1))\n",
    "\n",
    "\n",
    "    bootbetaOLS = OLSmethod(bootX,bootz)\n",
    "    \n",
    "    ypred = bootX @ bootbetaOLS\n",
    "    MSElist.append(MSE(z_train,ypred))\n",
    "    R2list.append(R2(bootz,ypred))\n",
    "    \n",
    "\n",
    "\n",
    "\n",
    "\n",
    "#print(np.mean(MSElist))\n",
    "#print(np.mean(R2list))\n",
    "\n",
    "print('MSE_kfold: ',k_foldOLS(z, 5,X))\n",
    "boot_train_error, boot_test_error =BootstrapOLS(X_train,X_test,z_train,z_test,100)\n",
    "print('bootTest: ', boot_test_error)\n"
   ]
  },
  {
   "cell_type": "markdown",
   "metadata": {},
   "source": [
    "## For the scaled data"
   ]
  },
  {
   "cell_type": "code",
   "execution_count": 5,
   "metadata": {},
   "outputs": [
    {
     "name": "stdout",
     "output_type": "stream",
     "text": [
      "The variance of the scaled coefficients is 11349900.766272154\n",
      "\n",
      "Under we print the different values for MSE and R2\n",
      "For the scaled training data we get a MSE and R2 of:\n",
      "--------------------------------------------------------\n",
      "MSE = |0.002204928813378315|, R2 = |0.9978017048151292|\n",
      "--------------------------------------------------------\n",
      "\n",
      "For the scaled test data we get a MSE and R2 of: \n",
      "--------------------------------------------------------\n",
      "MSE = |0.002994015830010697|, R2 = |0.9965189503902356|\n",
      "--------------------------------------------------------\n",
      "\n"
     ]
    }
   ],
   "source": [
    "scaler = StandardScaler()\n",
    "\n",
    "X_scale = scaler.fit_transform(X)\n",
    "z_scaled = scaler.fit_transform(z.reshape(-1,1))\n",
    "\n",
    "\n",
    "\n",
    "\n",
    "X_strain, X_stest, z_strain, z_stest = train_test_split(X_scale, z_scaled.reshape(-1,1) , test_size = 0.2 )\n",
    "\n",
    "betascaledOCS = np.linalg.pinv(X_strain.T@X_strain)@ X_strain.T @ z_strain\n",
    "print(f\"The variance of the scaled coefficients is {np.var(betascaledOCS)}\\n\")\n",
    "\n",
    "zpreds = X_strain@betascaledOCS\n",
    "\n",
    "\n",
    "\n",
    "print(f\"Under we print the different values for MSE and R2\")\n",
    "\n",
    "\n",
    "\n",
    "print(\"For the scaled training data we get a MSE and R2 of:\")\n",
    "printQ(z_strain,zpreds)\n",
    "\n",
    "\n",
    "print(\"For the scaled test data we get a MSE and R2 of: \")\n",
    "ztilde = X_stest @ betascaledOCS\n",
    "\n",
    "printQ(z_stest,ztilde)\n"
   ]
  },
  {
   "cell_type": "code",
   "execution_count": null,
   "metadata": {},
   "outputs": [],
   "source": []
  },
  {
   "cell_type": "markdown",
   "metadata": {},
   "source": [
    "## Task 2"
   ]
  },
  {
   "cell_type": "code",
   "execution_count": 6,
   "metadata": {},
   "outputs": [
    {
     "name": "stdout",
     "output_type": "stream",
     "text": [
      "The polynomial range is [0,27] \n"
     ]
    },
    {
     "data": {
      "image/png": "[encoded data removed]",
      "text/plain": [
       "<Figure size 432x288 with 1 Axes>"
      ]
     },
     "metadata": {
      "needs_background": "light"
     },
     "output_type": "display_data"
    }
   ],
   "source": [
    "npoints = 150\n",
    "\n",
    "\n",
    "# Make data.\n",
    "x = np.sort(np.random.uniform(0, 1, npoints)) \n",
    "y = np.sort(np.random.uniform(0, 1, npoints)) \n",
    "\n",
    "\n",
    "#x, y = np.meshgrid(x,y)\n",
    "\n",
    "\n",
    "z = FrankeFunction(x, y) \n",
    "z = z #+ 0.1 * np.random.randn(npoints)\n",
    "\n",
    "\n",
    "n = 27\n",
    "\n",
    "plotMSEcomplexity(x,y,z,n)\n",
    "\n"
   ]
  },
  {
   "cell_type": "code",
   "execution_count": 7,
   "metadata": {},
   "outputs": [
    {
     "ename": "NameError",
     "evalue": "name 'k_fold' is not defined",
     "output_type": "error",
     "traceback": [
      "\u001b[1;31m---------------------------------------------------------------------------\u001b[0m",
      "\u001b[1;31mNameError\u001b[0m                                 Traceback (most recent call last)",
      "\u001b[1;32m<ipython-input-7-f9a6b4dd8719>\u001b[0m in \u001b[0;36m<module>\u001b[1;34m\u001b[0m\n\u001b[0;32m      8\u001b[0m \u001b[1;32mfor\u001b[0m \u001b[0mj\u001b[0m \u001b[1;32min\u001b[0m \u001b[0mrange\u001b[0m\u001b[1;33m(\u001b[0m\u001b[0mn\u001b[0m\u001b[1;33m)\u001b[0m\u001b[1;33m:\u001b[0m\u001b[1;33m\u001b[0m\u001b[1;33m\u001b[0m\u001b[0m\n\u001b[0;32m      9\u001b[0m     \u001b[0mX\u001b[0m \u001b[1;33m=\u001b[0m \u001b[0mcreate_X\u001b[0m\u001b[1;33m(\u001b[0m\u001b[0mx\u001b[0m\u001b[1;33m,\u001b[0m\u001b[0my\u001b[0m\u001b[1;33m,\u001b[0m\u001b[0mj\u001b[0m\u001b[1;33m)\u001b[0m\u001b[1;33m\u001b[0m\u001b[1;33m\u001b[0m\u001b[0m\n\u001b[1;32m---> 10\u001b[1;33m     \u001b[0mM_list\u001b[0m\u001b[1;33m[\u001b[0m\u001b[0mj\u001b[0m\u001b[1;33m]\u001b[0m \u001b[1;33m=\u001b[0m \u001b[0mk_fold\u001b[0m\u001b[1;33m(\u001b[0m\u001b[0mz\u001b[0m\u001b[1;33m,\u001b[0m\u001b[0mk\u001b[0m\u001b[1;33m,\u001b[0m\u001b[0mX\u001b[0m\u001b[1;33m)\u001b[0m\u001b[1;33m\u001b[0m\u001b[1;33m\u001b[0m\u001b[0m\n\u001b[0m\u001b[0;32m     11\u001b[0m \u001b[1;33m\u001b[0m\u001b[0m\n\u001b[0;32m     12\u001b[0m \u001b[0mplt\u001b[0m\u001b[1;33m.\u001b[0m\u001b[0mplot\u001b[0m\u001b[1;33m(\u001b[0m\u001b[0mM_list\u001b[0m\u001b[1;33m)\u001b[0m\u001b[1;33m\u001b[0m\u001b[1;33m\u001b[0m\u001b[0m\n",
      "\u001b[1;31mNameError\u001b[0m: name 'k_fold' is not defined"
     ]
    }
   ],
   "source": [
    "#K_fold\n",
    "\n",
    "n = 27\n",
    "k = 15\n",
    "\n",
    "M_list = np.zeros(n)\n",
    "\n",
    "for j in range(n):\n",
    "    X = create_X(x,y,j)\n",
    "    M_list[j] = k_foldOLS(z,k,X)\n",
    "\n",
    "plt.plot(M_list)\n",
    "plt.show()\n",
    "\n",
    "\n",
    "\n",
    "\n"
   ]
  },
  {
   "cell_type": "markdown",
   "metadata": {},
   "source": [
    "## Ridge"
   ]
  },
  {
   "cell_type": "code",
   "execution_count": 18,
   "metadata": {},
   "outputs": [],
   "source": [
    "lam = np.logspace(-4,4)\n",
    "lam_n = np.size(lam)\n",
    "degrees = 27\n",
    "\n",
    "Bootstrapp_train_errors = np.zeros((lam_n,degrees))\n",
    "Bootstrapp_test_errors = np.zeros((lam_n,degrees))\n",
    "i,j = 0,0\n",
    "\n",
    "for alpha in lam:\n",
    "    for degree in range(degrees):\n",
    "        X = create_X(x,y,degree)\n",
    "        X_strain, X_stest, z_strain, z_stest = train_test_split(X_scale, z_scaled.reshape(-1,1) , test_size = 0.2 )\n",
    "        bootstrap_train, bootstrap_test = BootstrapRidge(X_train,X_test,z_train,z_test,alpha,30)\n",
    "        Bootstrapp_train_errors[i,j] =  bootstrap_train\n",
    "        Bootstrapp_test_errors[i,j] = bootstrap_test\n",
    "        j +=1\n",
    "    i +=1\n",
    "    j=0\n"
   ]
  },
  {
   "cell_type": "code",
   "execution_count": 22,
   "metadata": {},
   "outputs": [
    {
     "data": {
      "image/png": "[encoded data removed]",
      "text/plain": [
       "<Figure size 432x288 with 1 Axes>"
      ]
     },
     "metadata": {
      "needs_background": "light"
     },
     "output_type": "display_data"
    }
   ],
   "source": [
    "plt.semilogx(lam,Bootstrapp_train_errors[:,4])\n",
    "plt.semilogx(lam,Bootstrapp_test_errors[:,4])\n",
    "plt.show()"
   ]
  },
  {
   "cell_type": "code",
   "execution_count": null,
   "metadata": {},
   "outputs": [],
   "source": []
  },
  {
   "cell_type": "code",
   "execution_count": null,
   "metadata": {},
   "outputs": [],
   "source": []
  }
 ],
 "metadata": {
  "kernelspec": {
   "display_name": "Python 3",
   "language": "python",
   "name": "python3"
  },
  "language_info": {
   "codemirror_mode": {
    "name": "ipython",
    "version": 3
   },
   "file_extension": ".py",
   "mimetype": "text/x-python",
   "name": "python",
   "nbconvert_exporter": "python",
   "pygments_lexer": "ipython3",
   "version": "3.7.3"
  }
 },
 "nbformat": 4,
 "nbformat_minor": 5
}
