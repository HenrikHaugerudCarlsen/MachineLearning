{
 "cells": [
  {
   "cell_type": "code",
   "execution_count": 1,
   "metadata": {},
   "outputs": [],
   "source": [
    "from mpl_toolkits.mplot3d import Axes3D\n",
    "import matplotlib.pyplot as plt\n",
    "from matplotlib import cm\n",
    "#from matplotlib.ticker import LinearLocator, FormatStrFormatter,\n",
    "import matplotlib.ticker as ticker\n",
    "\n",
    "\n",
    "from sklearn.linear_model import LinearRegression\n",
    "from sklearn.neural_network import MLPClassifier\n",
    "\n",
    "import seaborn as sns\n",
    "import autograd.numpy as np\n",
    "from autograd import grad, elementwise_grad,jacobian, hessian\n",
    "import pandas as pd\n",
    "from random import random, seed\n",
    "from sklearn.preprocessing import PolynomialFeatures\n",
    "from sklearn.model_selection import train_test_split\n",
    "from sklearn.metrics import r2_score, mean_squared_error\n",
    "from sklearn.preprocessing import StandardScaler\n",
    "from sklearn.linear_model import Lasso\n",
    "from sklearn.utils import resample\n",
    "from sklearn.model_selection import KFold, cross_val_score\n",
    "from sklearn.datasets import load_breast_cancer\n",
    "plt.rcParams['font.size'] = 14\n"
   ]
  },
  {
   "cell_type": "code",
   "execution_count": 63,
   "metadata": {},
   "outputs": [],
   "source": [
    "def Sigmoid(y):\n",
    "    return np.exp(y)/(1+np.exp(y))\n",
    "def Identity(y):\n",
    "    return y\n",
    "\n",
    "def Set_weights_and_bias(n_in,n_hidden,n_out):\n",
    "#### Setting hiden weights\n",
    "    W_hidden = np.random.randn(n_in, n_hidden)\n",
    "    b_hidden = np.zeros(n_hidden) +0.01\n",
    "#### setting output weights\n",
    "    W_out = np.random.randn(n_hidden, n_out)\n",
    "    b_out = np.zeros(n_out) +0.01\n",
    "    return W_hidden, W_out, b_hidden, b_out\n",
    "\n",
    "#### From lecture notes\n",
    "def feed_forward_train(X,W_hidden, W_out, b_hidden, b_out,activation_function, output_function):\n",
    "#### Hidden attac\n",
    "    z_h = X@W_hidden + b_hidden\n",
    "    a_h = activation_function(z_h)\n",
    "#### output attac\n",
    "    z_o = a_h@W_out + b_out\n",
    "    a_o = output_function(z_o)\n",
    "    return a_h, a_o, z_h,z_o\n",
    "\n",
    "\n",
    "def feed_forward(X,W_hidden, W_out, b_hidden, b_out,activation_function, output_function):\n",
    "#### Hidden attac\n",
    "    z_h = X@W_hidden + b_hidden\n",
    "    a_h = activation_function(z_h)\n",
    "#### output attac\n",
    "    z_o = a_h@W_out + b_out\n",
    "    a_o = output_function(z_o)\n",
    "    return a_o[0]\n",
    "\n",
    "def u(x):\n",
    "    return np.sin(np.pi*x)\n",
    "\n",
    "def g_trial(X,W_hidden, W_out, b_hidden, b_out,activation_function, output_function):\n",
    "    x,t = X[0],X[1]\n",
    "    return (1-t)*u(x) + x*(1-x)*t*feed_forward(X,W_hidden, W_out, b_hidden, b_out,activation_function, output_function)\n",
    "\n",
    "#### From notes\n",
    "def cost_function(x,t,W_hidden, W_out, b_hidden, b_out,activation_function, output_function):\n",
    "    cost_sum = 0\n",
    "    \n",
    "    g_t_jac_fun = jacobian(g_trial)\n",
    "    g_t_hessian_fun = hessian(g_trial)\n",
    "    \n",
    "    for x_ in x:\n",
    "        for t_ in t:\n",
    "            X = np.array([x_,t_])\n",
    "            g_t = g_trial(X,W_hidden, W_out, b_hidden, b_out,activation_function, output_function)\n",
    "            g_t_jac = g_t_jac_fun(X,W_hidden, W_out, b_hidden, b_out,activation_function, output_function)\n",
    "            g_t_hessian =g_t_hessian_fun(X,W_hidden, W_out, b_hidden, b_out,activation_function, output_function)\n",
    "           # print(g_t)\n",
    "            g_t_dt = g_t_jac[1]\n",
    "            g_t_d2x = g_t_hessian[0][0]\n",
    "            \n",
    "            error = g_t_dt -g_t_d2x\n",
    "            cost_sum += error**2\n",
    "    return cost_sum/(np.size(x)*np.size(t))\n",
    "\n",
    "### from notes, altered to fitt our setup\n",
    "def solution(x,t,N_hidden,eta):\n",
    "    W_hidden, W_out, b_hidden, b_out = Set_weights_and_bias(2,N_hidden,1)\n",
    "    activation_function = Sigmoid\n",
    "    output_function = Identity\n",
    "    print('Initial cost: ', cost_function(x,t,W_hidden, W_out, b_hidden, b_out,activation_function, output_function))\n",
    "    \n",
    "    cost_func_wh_grad = elementwise_grad(cost_function,2)\n",
    "    cost_func_bh_grad = elementwise_grad(cost_function,4)\n",
    "    cost_func_wo_grad = elementwise_grad(cost_function,3)\n",
    "    cost_func_bo_grad = elementwise_grad(cost_function,5)\n",
    "    epoch = 150\n",
    "    Minibach = 10\n",
    "    MiniBachSize =int(np.size(x)/Minibach)\n",
    "    for e in range(epoch):\n",
    "        for j in range(Minibach):\n",
    "            miniBach = np.random.randint(Minibach)\n",
    "            miniBachMin, miniBachMax = MiniBachSize * miniBach,(MiniBachSize) * (miniBach+1)\n",
    "            x_bach,t_bach = x[miniBachMin:miniBachMax],t[miniBachMin:miniBachMax]\n",
    "            W_hidden -= eta*cost_func_wh_grad(x_bach,t_bach,W_hidden, W_out, b_hidden, b_out,activation_function, output_function)\n",
    "            W_out -= eta*cost_func_wo_grad(x_bach,t_bach,W_hidden, W_out, b_hidden, b_out,activation_function, output_function)\n",
    "            b_hidden -= eta*cost_func_bh_grad(x_bach,t_bach,W_hidden, W_out, b_hidden, b_out,activation_function, output_function)\n",
    "            b_out -= eta*cost_func_bo_grad(x_bach,t_bach,W_hidden, W_out, b_hidden, b_out,activation_function, output_function)\n",
    "       # print(\"finished iteration number: \", e)\n",
    "   \n",
    "    print('Final cost: ', cost_function(x,t,W_hidden, W_out, b_hidden, b_out,activation_function, output_function))\n",
    "    return W_hidden, W_out, b_hidden, b_out\n",
    "    "
   ]
  },
  {
   "cell_type": "code",
   "execution_count": null,
   "metadata": {},
   "outputs": [
    {
     "name": "stdout",
     "output_type": "stream",
     "text": [
      "Initial cost:  18.717025875555873\n"
     ]
    }
   ],
   "source": [
    "x = np.random.uniform(0,1,10)\n",
    "t = np.random.uniform(0,1,10)\n",
    "W_hidden, W_out, b_hidden, b_out = solution(x,t,50,0.1)"
   ]
  },
  {
   "cell_type": "code",
   "execution_count": 62,
   "metadata": {},
   "outputs": [
    {
     "name": "stdout",
     "output_type": "stream",
     "text": [
      "0.6109746029539818 0.37270783885343794\n"
     ]
    }
   ],
   "source": [
    "### test\n",
    "\n",
    "t_0 = .1\n",
    "x_0 = 1/2\n",
    "X_0 = np.array([x_0,t_0])\n",
    "print(g_trial(X_0,W_hidden, W_out, b_hidden, b_out,Sigmoid, Identity),u(x_0)*np.exp(-np.pi**2*t_0))"
   ]
  },
  {
   "cell_type": "code",
   "execution_count": null,
   "metadata": {},
   "outputs": [],
   "source": []
  }
 ],
 "metadata": {
  "kernelspec": {
   "display_name": "Python 3",
   "language": "python",
   "name": "python3"
  },
  "language_info": {
   "codemirror_mode": {
    "name": "ipython",
    "version": 3
   },
   "file_extension": ".py",
   "mimetype": "text/x-python",
   "name": "python",
   "nbconvert_exporter": "python",
   "pygments_lexer": "ipython3",
   "version": "3.7.3"
  }
 },
 "nbformat": 4,
 "nbformat_minor": 2
}
