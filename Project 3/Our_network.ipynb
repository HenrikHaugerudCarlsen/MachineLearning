{
 "cells": [
  {
   "cell_type": "code",
   "execution_count": 2,
   "metadata": {},
   "outputs": [],
   "source": [
    "from mpl_toolkits.mplot3d import Axes3D\n",
    "import matplotlib.pyplot as plt\n",
    "from matplotlib import cm\n",
    "#from matplotlib.ticker import LinearLocator, FormatStrFormatter,\n",
    "import matplotlib.ticker as ticker\n",
    "\n",
    "\n",
    "from sklearn.linear_model import LinearRegression\n",
    "from sklearn.neural_network import MLPClassifier\n",
    "\n",
    "import seaborn as sns\n",
    "import autograd.numpy as np\n",
    "from autograd import grad, elementwise_grad,jacobian, hessian\n",
    "import pandas as pd\n",
    "from random import random, seed\n",
    "from sklearn.preprocessing import PolynomialFeatures\n",
    "from sklearn.model_selection import train_test_split\n",
    "from sklearn.metrics import r2_score, mean_squared_error\n",
    "from sklearn.preprocessing import StandardScaler\n",
    "from sklearn.linear_model import Lasso\n",
    "from sklearn.utils import resample\n",
    "from sklearn.model_selection import KFold, cross_val_score\n",
    "from sklearn.datasets import load_breast_cancer\n",
    "plt.rcParams['font.size'] = 14\n"
   ]
  },
  {
   "cell_type": "code",
   "execution_count": 3,
   "metadata": {},
   "outputs": [],
   "source": [
    "def Sigmoid(y):\n",
    "    return np.exp(y)/(1+np.exp(y))\n",
    "def Identity(y):\n",
    "    return y\n",
    "\n",
    "def RELU(y):\n",
    "    return np.maximum(0,y)\n",
    "\n",
    "def lexyRelu(y):\n",
    "    return np.maximum(0.01*y,y)\n",
    "\n",
    "def Set_weights_and_bias(n_in,n_hidden,n_out):\n",
    "#### Setting hiden weights\n",
    "    W_hidden = np.random.randn(n_in, n_hidden)\n",
    "    b_hidden = np.zeros(n_hidden) +0.01\n",
    "#### setting output weights\n",
    "    W_out = np.random.randn(n_hidden, n_out)\n",
    "    b_out = np.zeros(n_out) +0.01\n",
    "    return W_hidden, W_out, b_hidden, b_out\n",
    "\n",
    "#### From lecture notes\n",
    "def feed_forward_train(X,W_hidden, W_out, b_hidden, b_out,activation_function, output_function):\n",
    "#### Hidden attac\n",
    "    z_h = X@W_hidden + b_hidden\n",
    "    a_h = activation_function(z_h)\n",
    "#### output attac\n",
    "    z_o = a_h@W_out + b_out\n",
    "    a_o = output_function(z_o)\n",
    "    return a_h, a_o, z_h,z_o\n",
    "\n",
    "\n",
    "def feed_forward(X,W_hidden, W_out, b_hidden, b_out,activation_function, output_function):\n",
    "#### Hidden attac\n",
    "    z_h = X@W_hidden + b_hidden\n",
    "    a_h = activation_function(z_h)\n",
    "#### output attac\n",
    "    z_o = a_h@W_out + b_out\n",
    "    a_o = output_function(z_o)\n",
    "    return a_o[0]\n",
    "\n",
    "def u(x):\n",
    "    return np.sin(np.pi*x)\n",
    "\n",
    "def g_trial(X,W_hidden, W_out, b_hidden, b_out,activation_function, output_function):\n",
    "    x,t = X[0],X[1]\n",
    "    return (1-t)*u(x) + x*(1-x)*t*feed_forward(X,W_hidden, W_out, b_hidden, b_out,activation_function, output_function)\n",
    "\n",
    "#### From notes\n",
    "def cost_function(x,t,W_hidden, W_out, b_hidden, b_out,activation_function, output_function):\n",
    "    cost_sum = 0\n",
    "    \n",
    "    g_t_jac_fun = jacobian(g_trial)\n",
    "    g_t_hessian_fun = hessian(g_trial)\n",
    "    \n",
    "    for x_ in x:\n",
    "        for t_ in t:\n",
    "            X = np.array([x_,t_])\n",
    "            g_t = g_trial(X,W_hidden, W_out, b_hidden, b_out,activation_function, output_function)\n",
    "            g_t_jac = g_t_jac_fun(X,W_hidden, W_out, b_hidden, b_out,activation_function, output_function)\n",
    "            g_t_hessian =g_t_hessian_fun(X,W_hidden, W_out, b_hidden, b_out,activation_function, output_function)\n",
    "           # print(g_t)\n",
    "            g_t_dt = g_t_jac[1]\n",
    "            g_t_d2x = g_t_hessian[0][0]\n",
    "            \n",
    "            error = g_t_dt -g_t_d2x\n",
    "            cost_sum += error**2\n",
    "    return cost_sum/(np.size(x)*np.size(t))\n",
    "\n",
    "### from notes, altered to fitt our setup\n",
    "def solution(x,t,N_hidden,eta, activation_function ,output_function, epoch,Minibach):\n",
    "    W_hidden, W_out, b_hidden, b_out = Set_weights_and_bias(2,N_hidden,1)\n",
    " #   print('Initial cost: ', cost_function(x,t,W_hidden, W_out, b_hidden, b_out,activation_function, output_function))\n",
    "    \n",
    "    cost_func_wh_grad = elementwise_grad(cost_function,2)\n",
    "    cost_func_bh_grad = elementwise_grad(cost_function,4)\n",
    "    cost_func_wo_grad = elementwise_grad(cost_function,3)\n",
    "    cost_func_bo_grad = elementwise_grad(cost_function,5)\n",
    "    MiniBachSize =int(np.size(x)/Minibach)\n",
    "    for e in range(epoch):\n",
    "        for j in range(Minibach):\n",
    "            miniBach = np.random.randint(Minibach)\n",
    "            miniBachMin, miniBachMax = MiniBachSize * miniBach,(MiniBachSize) * (miniBach+1)\n",
    "            x_bach,t_bach = x[miniBachMin:miniBachMax],t[miniBachMin:miniBachMax]\n",
    "            W_hidden -= eta*cost_func_wh_grad(x_bach,t_bach,W_hidden, W_out, b_hidden, b_out,activation_function, output_function)\n",
    "            W_out -= eta*cost_func_wo_grad(x_bach,t_bach,W_hidden, W_out, b_hidden, b_out,activation_function, output_function)\n",
    "            b_hidden -= eta*cost_func_bh_grad(x_bach,t_bach,W_hidden, W_out, b_hidden, b_out,activation_function, output_function)\n",
    "            b_out -= eta*cost_func_bo_grad(x_bach,t_bach,W_hidden, W_out, b_hidden, b_out,activation_function, output_function)\n",
    "      #  print(\"finished iteration number: \", e)\n",
    "   \n",
    "   # print('Final cost: ', cost_function(x,t,W_hidden, W_out, b_hidden, b_out,activation_function, output_function))\n",
    "    return W_hidden, W_out, b_hidden, b_out\n",
    "\n"
   ]
  },
  {
   "cell_type": "code",
   "execution_count": 4,
   "metadata": {},
   "outputs": [
    {
     "name": "stdout",
     "output_type": "stream",
     "text": [
      "Doing the strap:)\n",
      "Doing the strap:)\n",
      "Doing the strap:)\n",
      "Doing the strap:)\n",
      "Doing the strap:)\n",
      "Doing the strap:)\n",
      "Doing the strap:)\n",
      "Doing the strap:)\n",
      "Doing the strap:)\n",
      "Doing the strap:)\n",
      "Doing the strap:)\n",
      "Doing the strap:)\n",
      "Doing the strap:)\n",
      "Doing the strap:)\n",
      "Doing the strap:)\n"
     ]
    },
    {
     "name": "stderr",
     "output_type": "stream",
     "text": [
      "C:\\ProgramData\\Anaconda3\\lib\\site-packages\\autograd\\tracer.py:48: RuntimeWarning: overflow encountered in power\n",
      "  return f_raw(*args, **kwargs)\n",
      "C:\\ProgramData\\Anaconda3\\lib\\site-packages\\autograd\\tracer.py:48: RuntimeWarning: overflow encountered in matmul\n",
      "  return f_raw(*args, **kwargs)\n",
      "C:\\ProgramData\\Anaconda3\\lib\\site-packages\\autograd\\core.py:213: RuntimeWarning: invalid value encountered in add\n",
      "  def _mut_add(self, x, y):    x += y; return x\n",
      "C:\\ProgramData\\Anaconda3\\lib\\site-packages\\autograd\\numpy\\numpy_vjps.py:34: RuntimeWarning: invalid value encountered in multiply\n",
      "  defvjp(anp.multiply,    lambda ans, x, y : unbroadcast_f(x, lambda g: y * g),\n"
     ]
    },
    {
     "name": "stdout",
     "output_type": "stream",
     "text": [
      "Doing the strap:)\n"
     ]
    },
    {
     "name": "stderr",
     "output_type": "stream",
     "text": [
      "C:\\ProgramData\\Anaconda3\\lib\\site-packages\\autograd\\core.py:212: RuntimeWarning: invalid value encountered in double_scalars\n",
      "  def _add(self, x, y):        return x + y\n",
      "C:\\ProgramData\\Anaconda3\\lib\\site-packages\\autograd\\tracer.py:48: RuntimeWarning: invalid value encountered in multiply\n",
      "  return f_raw(*args, **kwargs)\n",
      "C:\\ProgramData\\Anaconda3\\lib\\site-packages\\autograd\\core.py:213: RuntimeWarning: invalid value encountered in double_scalars\n",
      "  def _mut_add(self, x, y):    x += y; return x\n"
     ]
    },
    {
     "name": "stdout",
     "output_type": "stream",
     "text": [
      "Doing the strap:)\n"
     ]
    },
    {
     "name": "stderr",
     "output_type": "stream",
     "text": [
      "C:\\ProgramData\\Anaconda3\\lib\\site-packages\\ipykernel_launcher.py:2: RuntimeWarning: invalid value encountered in true_divide\n",
      "  \n",
      "C:\\ProgramData\\Anaconda3\\lib\\site-packages\\autograd\\tracer.py:48: RuntimeWarning: invalid value encountered in true_divide\n",
      "  return f_raw(*args, **kwargs)\n",
      "C:\\ProgramData\\Anaconda3\\lib\\site-packages\\autograd\\numpy\\numpy_vjps.py:52: RuntimeWarning: invalid value encountered in true_divide\n",
      "  defvjp(anp.true_divide, lambda ans, x, y : unbroadcast_f(x, lambda g: g / y),\n",
      "C:\\ProgramData\\Anaconda3\\lib\\site-packages\\autograd\\numpy\\numpy_vjps.py:53: RuntimeWarning: overflow encountered in square\n",
      "  lambda ans, x, y : unbroadcast_f(y, lambda g: - g * x / y**2))\n",
      "C:\\ProgramData\\Anaconda3\\lib\\site-packages\\autograd\\numpy\\numpy_vjps.py:35: RuntimeWarning: invalid value encountered in multiply\n",
      "  lambda ans, x, y : unbroadcast_f(y, lambda g: x * g))\n",
      "C:\\ProgramData\\Anaconda3\\lib\\site-packages\\autograd\\numpy\\numpy_vjps.py:53: RuntimeWarning: invalid value encountered in true_divide\n",
      "  lambda ans, x, y : unbroadcast_f(y, lambda g: - g * x / y**2))\n",
      "C:\\ProgramData\\Anaconda3\\lib\\site-packages\\autograd\\numpy\\numpy_vjps.py:75: RuntimeWarning: invalid value encountered in multiply\n",
      "  defvjp(anp.exp,    lambda ans, x : lambda g: ans * g)\n",
      "C:\\ProgramData\\Anaconda3\\lib\\site-packages\\autograd\\numpy\\numpy_vjps.py:53: RuntimeWarning: overflow encountered in multiply\n",
      "  lambda ans, x, y : unbroadcast_f(y, lambda g: - g * x / y**2))\n",
      "C:\\ProgramData\\Anaconda3\\lib\\site-packages\\autograd\\tracer.py:48: RuntimeWarning: overflow encountered in multiply\n",
      "  return f_raw(*args, **kwargs)\n",
      "C:\\ProgramData\\Anaconda3\\lib\\site-packages\\autograd\\numpy\\numpy_vjps.py:53: RuntimeWarning: invalid value encountered in multiply\n",
      "  lambda ans, x, y : unbroadcast_f(y, lambda g: - g * x / y**2))\n"
     ]
    },
    {
     "name": "stdout",
     "output_type": "stream",
     "text": [
      "Doing the strap:)\n",
      "Doing the strap:)\n"
     ]
    },
    {
     "name": "stderr",
     "output_type": "stream",
     "text": [
      "C:\\ProgramData\\Anaconda3\\lib\\site-packages\\autograd\\numpy\\numpy_vjps.py:40: RuntimeWarning: invalid value encountered in multiply\n",
      "  defvjp(anp.maximum,     lambda ans, x, y : unbroadcast_f(x, lambda g: g * balanced_eq(x, ans, y)),\n",
      "C:\\ProgramData\\Anaconda3\\lib\\site-packages\\autograd\\numpy\\numpy_vjps.py:41: RuntimeWarning: invalid value encountered in multiply\n",
      "  lambda ans, x, y : unbroadcast_f(y, lambda g: g * balanced_eq(y, ans, x)))\n"
     ]
    },
    {
     "name": "stdout",
     "output_type": "stream",
     "text": [
      "Doing the strap:)\n"
     ]
    },
    {
     "name": "stderr",
     "output_type": "stream",
     "text": [
      "C:\\ProgramData\\Anaconda3\\lib\\site-packages\\autograd\\tracer.py:48: RuntimeWarning: invalid value encountered in matmul\n",
      "  return f_raw(*args, **kwargs)\n",
      "C:\\ProgramData\\Anaconda3\\lib\\site-packages\\autograd\\tracer.py:48: RuntimeWarning: overflow encountered in add\n",
      "  return f_raw(*args, **kwargs)\n"
     ]
    },
    {
     "ename": "PermissionError",
     "evalue": "[Errno 13] Permission denied: 'Test_Accuracy_Single_hidden_layer.pdf'",
     "output_type": "error",
     "traceback": [
      "\u001b[1;31m---------------------------------------------------------------------------\u001b[0m",
      "\u001b[1;31mPermissionError\u001b[0m                           Traceback (most recent call last)",
      "\u001b[1;32m<ipython-input-4-44358a21ed9e>\u001b[0m in \u001b[0;36m<module>\u001b[1;34m\u001b[0m\n\u001b[0;32m     61\u001b[0m \u001b[0max\u001b[0m\u001b[1;33m.\u001b[0m\u001b[0mset_ylabel\u001b[0m\u001b[1;33m(\u001b[0m\u001b[1;34mr'$\\eta$'\u001b[0m\u001b[1;33m)\u001b[0m\u001b[1;33m\u001b[0m\u001b[1;33m\u001b[0m\u001b[0m\n\u001b[0;32m     62\u001b[0m \u001b[0mplt\u001b[0m\u001b[1;33m.\u001b[0m\u001b[0mtight_layout\u001b[0m\u001b[1;33m(\u001b[0m\u001b[1;33m)\u001b[0m\u001b[1;33m\u001b[0m\u001b[1;33m\u001b[0m\u001b[0m\n\u001b[1;32m---> 63\u001b[1;33m \u001b[0mplt\u001b[0m\u001b[1;33m.\u001b[0m\u001b[0msavefig\u001b[0m\u001b[1;33m(\u001b[0m\u001b[1;34mf\"Test_Accuracy_Single_hidden_layer.pdf\"\u001b[0m\u001b[1;33m)\u001b[0m\u001b[1;33m\u001b[0m\u001b[1;33m\u001b[0m\u001b[0m\n\u001b[0m\u001b[0;32m     64\u001b[0m \u001b[0mplt\u001b[0m\u001b[1;33m.\u001b[0m\u001b[0mshow\u001b[0m\u001b[1;33m(\u001b[0m\u001b[1;33m)\u001b[0m\u001b[1;33m\u001b[0m\u001b[1;33m\u001b[0m\u001b[0m\n",
      "\u001b[1;32mC:\\ProgramData\\Anaconda3\\lib\\site-packages\\matplotlib\\pyplot.py\u001b[0m in \u001b[0;36msavefig\u001b[1;34m(*args, **kwargs)\u001b[0m\n\u001b[0;32m    714\u001b[0m \u001b[1;32mdef\u001b[0m \u001b[0msavefig\u001b[0m\u001b[1;33m(\u001b[0m\u001b[1;33m*\u001b[0m\u001b[0margs\u001b[0m\u001b[1;33m,\u001b[0m \u001b[1;33m**\u001b[0m\u001b[0mkwargs\u001b[0m\u001b[1;33m)\u001b[0m\u001b[1;33m:\u001b[0m\u001b[1;33m\u001b[0m\u001b[1;33m\u001b[0m\u001b[0m\n\u001b[0;32m    715\u001b[0m     \u001b[0mfig\u001b[0m \u001b[1;33m=\u001b[0m \u001b[0mgcf\u001b[0m\u001b[1;33m(\u001b[0m\u001b[1;33m)\u001b[0m\u001b[1;33m\u001b[0m\u001b[1;33m\u001b[0m\u001b[0m\n\u001b[1;32m--> 716\u001b[1;33m     \u001b[0mres\u001b[0m \u001b[1;33m=\u001b[0m \u001b[0mfig\u001b[0m\u001b[1;33m.\u001b[0m\u001b[0msavefig\u001b[0m\u001b[1;33m(\u001b[0m\u001b[1;33m*\u001b[0m\u001b[0margs\u001b[0m\u001b[1;33m,\u001b[0m \u001b[1;33m**\u001b[0m\u001b[0mkwargs\u001b[0m\u001b[1;33m)\u001b[0m\u001b[1;33m\u001b[0m\u001b[1;33m\u001b[0m\u001b[0m\n\u001b[0m\u001b[0;32m    717\u001b[0m     \u001b[0mfig\u001b[0m\u001b[1;33m.\u001b[0m\u001b[0mcanvas\u001b[0m\u001b[1;33m.\u001b[0m\u001b[0mdraw_idle\u001b[0m\u001b[1;33m(\u001b[0m\u001b[1;33m)\u001b[0m   \u001b[1;31m# need this if 'transparent=True' to reset colors\u001b[0m\u001b[1;33m\u001b[0m\u001b[1;33m\u001b[0m\u001b[0m\n\u001b[0;32m    718\u001b[0m     \u001b[1;32mreturn\u001b[0m \u001b[0mres\u001b[0m\u001b[1;33m\u001b[0m\u001b[1;33m\u001b[0m\u001b[0m\n",
      "\u001b[1;32mC:\\ProgramData\\Anaconda3\\lib\\site-packages\\matplotlib\\figure.py\u001b[0m in \u001b[0;36msavefig\u001b[1;34m(self, fname, transparent, **kwargs)\u001b[0m\n\u001b[0;32m   2178\u001b[0m             \u001b[0mself\u001b[0m\u001b[1;33m.\u001b[0m\u001b[0mpatch\u001b[0m\u001b[1;33m.\u001b[0m\u001b[0mset_visible\u001b[0m\u001b[1;33m(\u001b[0m\u001b[0mframeon\u001b[0m\u001b[1;33m)\u001b[0m\u001b[1;33m\u001b[0m\u001b[1;33m\u001b[0m\u001b[0m\n\u001b[0;32m   2179\u001b[0m \u001b[1;33m\u001b[0m\u001b[0m\n\u001b[1;32m-> 2180\u001b[1;33m         \u001b[0mself\u001b[0m\u001b[1;33m.\u001b[0m\u001b[0mcanvas\u001b[0m\u001b[1;33m.\u001b[0m\u001b[0mprint_figure\u001b[0m\u001b[1;33m(\u001b[0m\u001b[0mfname\u001b[0m\u001b[1;33m,\u001b[0m \u001b[1;33m**\u001b[0m\u001b[0mkwargs\u001b[0m\u001b[1;33m)\u001b[0m\u001b[1;33m\u001b[0m\u001b[1;33m\u001b[0m\u001b[0m\n\u001b[0m\u001b[0;32m   2181\u001b[0m \u001b[1;33m\u001b[0m\u001b[0m\n\u001b[0;32m   2182\u001b[0m         \u001b[1;32mif\u001b[0m \u001b[0mframeon\u001b[0m\u001b[1;33m:\u001b[0m\u001b[1;33m\u001b[0m\u001b[1;33m\u001b[0m\u001b[0m\n",
      "\u001b[1;32mC:\\ProgramData\\Anaconda3\\lib\\site-packages\\matplotlib\\backend_bases.py\u001b[0m in \u001b[0;36mprint_figure\u001b[1;34m(self, filename, dpi, facecolor, edgecolor, orientation, format, bbox_inches, **kwargs)\u001b[0m\n\u001b[0;32m   2080\u001b[0m                     \u001b[0morientation\u001b[0m\u001b[1;33m=\u001b[0m\u001b[0morientation\u001b[0m\u001b[1;33m,\u001b[0m\u001b[1;33m\u001b[0m\u001b[1;33m\u001b[0m\u001b[0m\n\u001b[0;32m   2081\u001b[0m                     \u001b[0mbbox_inches_restore\u001b[0m\u001b[1;33m=\u001b[0m\u001b[0m_bbox_inches_restore\u001b[0m\u001b[1;33m,\u001b[0m\u001b[1;33m\u001b[0m\u001b[1;33m\u001b[0m\u001b[0m\n\u001b[1;32m-> 2082\u001b[1;33m                     **kwargs)\n\u001b[0m\u001b[0;32m   2083\u001b[0m             \u001b[1;32mfinally\u001b[0m\u001b[1;33m:\u001b[0m\u001b[1;33m\u001b[0m\u001b[1;33m\u001b[0m\u001b[0m\n\u001b[0;32m   2084\u001b[0m                 \u001b[1;32mif\u001b[0m \u001b[0mbbox_inches\u001b[0m \u001b[1;32mand\u001b[0m \u001b[0mrestore_bbox\u001b[0m\u001b[1;33m:\u001b[0m\u001b[1;33m\u001b[0m\u001b[1;33m\u001b[0m\u001b[0m\n",
      "\u001b[1;32mC:\\ProgramData\\Anaconda3\\lib\\site-packages\\matplotlib\\backends\\backend_pdf.py\u001b[0m in \u001b[0;36mprint_pdf\u001b[1;34m(self, filename, dpi, bbox_inches_restore, metadata, **kwargs)\u001b[0m\n\u001b[0;32m   2494\u001b[0m             \u001b[0mfile\u001b[0m \u001b[1;33m=\u001b[0m \u001b[0mfilename\u001b[0m\u001b[1;33m.\u001b[0m\u001b[0m_file\u001b[0m\u001b[1;33m\u001b[0m\u001b[1;33m\u001b[0m\u001b[0m\n\u001b[0;32m   2495\u001b[0m         \u001b[1;32melse\u001b[0m\u001b[1;33m:\u001b[0m\u001b[1;33m\u001b[0m\u001b[1;33m\u001b[0m\u001b[0m\n\u001b[1;32m-> 2496\u001b[1;33m             \u001b[0mfile\u001b[0m \u001b[1;33m=\u001b[0m \u001b[0mPdfFile\u001b[0m\u001b[1;33m(\u001b[0m\u001b[0mfilename\u001b[0m\u001b[1;33m,\u001b[0m \u001b[0mmetadata\u001b[0m\u001b[1;33m=\u001b[0m\u001b[0mmetadata\u001b[0m\u001b[1;33m)\u001b[0m\u001b[1;33m\u001b[0m\u001b[1;33m\u001b[0m\u001b[0m\n\u001b[0m\u001b[0;32m   2497\u001b[0m         \u001b[1;32mtry\u001b[0m\u001b[1;33m:\u001b[0m\u001b[1;33m\u001b[0m\u001b[1;33m\u001b[0m\u001b[0m\n\u001b[0;32m   2498\u001b[0m             \u001b[0mfile\u001b[0m\u001b[1;33m.\u001b[0m\u001b[0mnewPage\u001b[0m\u001b[1;33m(\u001b[0m\u001b[0mwidth\u001b[0m\u001b[1;33m,\u001b[0m \u001b[0mheight\u001b[0m\u001b[1;33m)\u001b[0m\u001b[1;33m\u001b[0m\u001b[1;33m\u001b[0m\u001b[0m\n",
      "\u001b[1;32mC:\\ProgramData\\Anaconda3\\lib\\site-packages\\matplotlib\\backends\\backend_pdf.py\u001b[0m in \u001b[0;36m__init__\u001b[1;34m(self, filename, metadata)\u001b[0m\n\u001b[0;32m    430\u001b[0m         \u001b[0mself\u001b[0m\u001b[1;33m.\u001b[0m\u001b[0moriginal_file_like\u001b[0m \u001b[1;33m=\u001b[0m \u001b[1;32mNone\u001b[0m\u001b[1;33m\u001b[0m\u001b[1;33m\u001b[0m\u001b[0m\n\u001b[0;32m    431\u001b[0m         \u001b[0mself\u001b[0m\u001b[1;33m.\u001b[0m\u001b[0mtell_base\u001b[0m \u001b[1;33m=\u001b[0m \u001b[1;36m0\u001b[0m\u001b[1;33m\u001b[0m\u001b[1;33m\u001b[0m\u001b[0m\n\u001b[1;32m--> 432\u001b[1;33m         \u001b[0mfh\u001b[0m\u001b[1;33m,\u001b[0m \u001b[0mopened\u001b[0m \u001b[1;33m=\u001b[0m \u001b[0mcbook\u001b[0m\u001b[1;33m.\u001b[0m\u001b[0mto_filehandle\u001b[0m\u001b[1;33m(\u001b[0m\u001b[0mfilename\u001b[0m\u001b[1;33m,\u001b[0m \u001b[1;34m\"wb\"\u001b[0m\u001b[1;33m,\u001b[0m \u001b[0mreturn_opened\u001b[0m\u001b[1;33m=\u001b[0m\u001b[1;32mTrue\u001b[0m\u001b[1;33m)\u001b[0m\u001b[1;33m\u001b[0m\u001b[1;33m\u001b[0m\u001b[0m\n\u001b[0m\u001b[0;32m    433\u001b[0m         \u001b[1;32mif\u001b[0m \u001b[1;32mnot\u001b[0m \u001b[0mopened\u001b[0m\u001b[1;33m:\u001b[0m\u001b[1;33m\u001b[0m\u001b[1;33m\u001b[0m\u001b[0m\n\u001b[0;32m    434\u001b[0m             \u001b[1;32mtry\u001b[0m\u001b[1;33m:\u001b[0m\u001b[1;33m\u001b[0m\u001b[1;33m\u001b[0m\u001b[0m\n",
      "\u001b[1;32mC:\\ProgramData\\Anaconda3\\lib\\site-packages\\matplotlib\\cbook\\__init__.py\u001b[0m in \u001b[0;36mto_filehandle\u001b[1;34m(fname, flag, return_opened, encoding)\u001b[0m\n\u001b[0;32m    430\u001b[0m             \u001b[0mfh\u001b[0m \u001b[1;33m=\u001b[0m \u001b[0mbz2\u001b[0m\u001b[1;33m.\u001b[0m\u001b[0mBZ2File\u001b[0m\u001b[1;33m(\u001b[0m\u001b[0mfname\u001b[0m\u001b[1;33m,\u001b[0m \u001b[0mflag\u001b[0m\u001b[1;33m)\u001b[0m\u001b[1;33m\u001b[0m\u001b[1;33m\u001b[0m\u001b[0m\n\u001b[0;32m    431\u001b[0m         \u001b[1;32melse\u001b[0m\u001b[1;33m:\u001b[0m\u001b[1;33m\u001b[0m\u001b[1;33m\u001b[0m\u001b[0m\n\u001b[1;32m--> 432\u001b[1;33m             \u001b[0mfh\u001b[0m \u001b[1;33m=\u001b[0m \u001b[0mopen\u001b[0m\u001b[1;33m(\u001b[0m\u001b[0mfname\u001b[0m\u001b[1;33m,\u001b[0m \u001b[0mflag\u001b[0m\u001b[1;33m,\u001b[0m \u001b[0mencoding\u001b[0m\u001b[1;33m=\u001b[0m\u001b[0mencoding\u001b[0m\u001b[1;33m)\u001b[0m\u001b[1;33m\u001b[0m\u001b[1;33m\u001b[0m\u001b[0m\n\u001b[0m\u001b[0;32m    433\u001b[0m         \u001b[0mopened\u001b[0m \u001b[1;33m=\u001b[0m \u001b[1;32mTrue\u001b[0m\u001b[1;33m\u001b[0m\u001b[1;33m\u001b[0m\u001b[0m\n\u001b[0;32m    434\u001b[0m     \u001b[1;32melif\u001b[0m \u001b[0mhasattr\u001b[0m\u001b[1;33m(\u001b[0m\u001b[0mfname\u001b[0m\u001b[1;33m,\u001b[0m \u001b[1;34m'seek'\u001b[0m\u001b[1;33m)\u001b[0m\u001b[1;33m:\u001b[0m\u001b[1;33m\u001b[0m\u001b[1;33m\u001b[0m\u001b[0m\n",
      "\u001b[1;31mPermissionError\u001b[0m: [Errno 13] Permission denied: 'Test_Accuracy_Single_hidden_layer.pdf'"
     ]
    },
    {
     "data": {
      "image/png": "[encoded data removed]",
      "text/plain": [
       "<Figure size 720x720 with 2 Axes>"
      ]
     },
     "metadata": {
      "needs_background": "light"
     },
     "output_type": "display_data"
    }
   ],
   "source": [
    "# We have changed how we test and train. The train is done on a random unsorted grid, while the test is done on a fixed grid\n",
    "\n",
    "x = np.random.uniform(0,1,6)\n",
    "t = np.random.uniform(0,1,6)\n",
    "\n",
    "t_test = np.linspace(0,1,50)\n",
    "x_test = np.linspace(0,1,50)\n",
    "\n",
    "etas = np.logspace(-4,0,5)\n",
    "\n",
    "\n",
    "activation_functions = [Sigmoid,RELU,lexyRelu,Identity]\n",
    "output_function = Identity\n",
    "epoch,Minibach = 100, 3\n",
    "N_hidden = 32\n",
    "N_straps = 10\n",
    "\n",
    "error_list = np.zeros((np.size(etas),np.size(activation_functions)))\n",
    "##### Training our network :)\n",
    "k,l= 0,0\n",
    "for eta in etas:\n",
    "    for activation_function in activation_functions:\n",
    "        g_error = 0\n",
    "        print(\"Doing the strap:)\")\n",
    "        for counter in range(N_straps):\n",
    "            W_hidden, W_out, b_hidden, b_out = solution(x,t,N_hidden,eta, activation_function ,output_function, epoch,Minibach)\n",
    "            error = 0\n",
    "            u_t = np.zeros((50,50))\n",
    "            i,j= 0,0\n",
    "            for x_0 in x_test:\n",
    "                for t_0 in t_test:\n",
    "                    X_0 = np.array([x_0,t_0])\n",
    "                    u_t[j,i] = g_trial(X_0,W_hidden, W_out, b_hidden, b_out,Sigmoid, Identity)\n",
    "                    error += (u_t[i,j]-u(x_0)*np.exp(-np.pi**2*t_0))**2\n",
    "                    j+=1\n",
    "                j=0\n",
    "                i+=1\n",
    "   #         plt.imshow(u_t,origin='lower')\n",
    "   #         plt.show()\n",
    "            error/= (np.size(t_test)*np.size(x_test))\n",
    "            g_error += error\n",
    "           # print(error)\n",
    "        g_error /= N_straps\n",
    "        error_list[k,l] += g_error\n",
    "        l+=1\n",
    "    k+=1\n",
    "    l= 0 \n",
    "\n",
    "tick = ticker.ScalarFormatter(useOffset=False, useMathText=True)\n",
    "tick.set_powerlimits((0,0))\n",
    "\n",
    "tx = [u\"${}$\".format(tick.format_data(x)) for x in [1,2,3,4]]\n",
    "ty = [u\"${}$\".format(tick.format_data(x)) for x in etas]\n",
    "\n",
    "#lambdas_sea = [lambdas[i] for i in range(len(lambdas))]\n",
    "#etas_sea =  [etas[i] for i in range(len(etas))]\n",
    "\n",
    "fig, ax = plt.subplots(figsize = (10, 10))\n",
    "sns.heatmap(data=error_list,ax=ax, cmap=\"viridis\",annot=True ,xticklabels=tx, yticklabels=ty,)\n",
    "ax.set_xlabel(r'Activation Function')\n",
    "ax.set_ylabel(r'$\\eta$')\n",
    "plt.tight_layout()\n",
    "plt.savefig(f\"Test_Accuracy_Single_hidden_layer.pdf\")\n",
    "plt.show()"
   ]
  },
  {
   "cell_type": "code",
   "execution_count": 84,
   "metadata": {},
   "outputs": [
    {
     "data": {
      "image/png": "[encoded data removed]",
      "text/plain": [
       "<Figure size 432x288 with 1 Axes>"
      ]
     },
     "metadata": {
      "needs_background": "light"
     },
     "output_type": "display_data"
    },
    {
     "name": "stdout",
     "output_type": "stream",
     "text": [
      "0.029750922939586116\n"
     ]
    }
   ],
   "source": [
    "### test\n",
    "\n"
   ]
  },
  {
   "cell_type": "code",
   "execution_count": null,
   "metadata": {},
   "outputs": [],
   "source": []
  }
 ],
 "metadata": {
  "kernelspec": {
   "display_name": "Python 3",
   "language": "python",
   "name": "python3"
  },
  "language_info": {
   "codemirror_mode": {
    "name": "ipython",
    "version": 3
   },
   "file_extension": ".py",
   "mimetype": "text/x-python",
   "name": "python",
   "nbconvert_exporter": "python",
   "pygments_lexer": "ipython3",
   "version": "3.7.3"
  }
 },
 "nbformat": 4,
 "nbformat_minor": 2
}
